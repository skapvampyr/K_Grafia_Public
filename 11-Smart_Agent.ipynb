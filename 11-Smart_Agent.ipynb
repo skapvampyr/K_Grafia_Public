{
 "cells": [
  {
   "cell_type": "markdown",
   "id": "6423f8f3-a592-4ee7-9969-39e38933be52",
   "metadata": {},
   "source": [
    "# Putting it all together"
   ]
  },
  {
   "cell_type": "markdown",
   "id": "06bf854d-94d7-4a65-952a-22c7999a9a9b",
   "metadata": {},
   "source": [
    "So far we have done the following on the prior Notebooks:\n",
    "\n",
    "- **Notebook 01**: We loaded the Azure Search Engine with enriched PDFs in index: \"cogsrch-index-files\"\n",
    "- **Notebook 02**: We loaded more information to the Search Engine this time using a CSV file with 90k rows/articles in index: \"cogsrch-index-csv\"\n",
    "- **Notebook 03**: We added AzureOpenAI GPT models to enhance the the production of the answer by using Utility Chains of LLMs\n",
    "- **Notebook 04**: We manually loaded an index with large/complex PDFs information , \"cogsrch-index-books-vector\"\n",
    "- **Notebook 05**: We added memory to our system in order to power a conversational Chat Bot\n",
    "- **Notebook 06**: We introduced Agents and Tools and built the first Skill/Agent, that can do RAG over a search engine\n",
    "- **Notebook 07**: We build a second Agent (Pandas) in order to be able to solve a more complex task: ask questions to Tabular datasets\n",
    "- **Notebook 08**: We used a SQL Agent in order to talk to a SQL Database directly\n",
    "- **Notebook 09**: We used another  Agent in order to talk to the Bing Search API and create a Bing Chat Clone and implemented callbacks for real-time streaming and tool information\n",
    "- **Notebook 10**: We built an API Agent that can translate a question into the right API calls, giving us the capability to talk to any datasource that provides a RESTFul API.\n",
    "\n",
    "\n",
    "We are missing one more thing: **How do we glue all these features together into a very smart GPT Smart Search Engine Chat Bot?**\n",
    "\n",
    "We want a virtual assistant for our company that can get the question, think what tool to use, then get the answer. The goal is that, regardless of the source of the information (Search Engine, Bing Search, SQL Database, CSV File, JSON File, APIs, etc), the Assistant can answer the question correctly using the right tool.\n",
    "\n",
    "In this Notebook we are going to create that \"brain\" Agent (also called Master Agent), that:\n",
    "\n",
    "1) understands the question, interacts with the user \n",
    "2) talks to other specialized Agents that are connected to diferent sources\n",
    "3) once it get's the answer it delivers it to the user or let the specialized Agent to deliver it directly\n",
    "\n",
    "This is the same concept of [AutoGen](https://www.microsoft.com/en-us/research/blog/autogen-enabling-next-generation-large-language-model-applications/): Agents talking to each other."
   ]
  },
  {
   "cell_type": "markdown",
   "id": "1d7fa9dc-64cb-4ee2-ae98-8cdb72293cbe",
   "metadata": {},
   "source": [
    "![image](https://www.microsoft.com/en-us/research/uploads/prod/2023/09/AutoGen_Fig1.png)"
   ]
  },
  {
   "cell_type": "code",
   "execution_count": 1,
   "id": "30b81551-92ac-4f08-9c00-ba11981c67c2",
   "metadata": {},
   "outputs": [],
   "source": [
    "import os\n",
    "import random\n",
    "import json\n",
    "import requests\n",
    "from operator import itemgetter\n",
    "from typing import Union, List\n",
    "from langchain_openai import AzureChatOpenAI\n",
    "from langchain.agents import AgentExecutor, Tool, create_openai_tools_agent\n",
    "from langchain_community.chat_message_histories import ChatMessageHistory, CosmosDBChatMessageHistory\n",
    "from langchain.callbacks.manager import CallbackManager\n",
    "from langchain_core.runnables.history import RunnableWithMessageHistory\n",
    "from langchain_core.runnables import ConfigurableFieldSpec, ConfigurableField\n",
    "from langchain_core.prompts import PromptTemplate, ChatPromptTemplate, MessagesPlaceholder\n",
    "from langchain_core.output_parsers import StrOutputParser\n",
    "from langchain.output_parsers import JsonOutputToolsParser\n",
    "from langchain_core.runnables import (\n",
    "    Runnable,\n",
    "    RunnableLambda,\n",
    "    RunnableMap,\n",
    "    RunnablePassthrough,\n",
    ")\n",
    "\n",
    "#custom libraries that we will use later in the app\n",
    "from common.utils import (\n",
    "    DocSearchAgent, \n",
    "    CSVTabularAgent \n",
    "    #SQLSearchAgent, \n",
    "    #ChatGPTTool, \n",
    "    #BingSearchAgent, \n",
    "    #APISearchAgent, \n",
    "    #reduce_openapi_spec\n",
    ")\n",
    "from common.callbacks import StdOutCallbackHandler\n",
    "from common.prompts import CUSTOM_CHATBOT_PROMPT \n",
    "\n",
    "from dotenv import load_dotenv\n",
    "load_dotenv(\"credentials.env\")\n",
    "\n",
    "from IPython.display import Markdown, HTML, display \n",
    "\n",
    "def printmd(string):\n",
    "    display(Markdown(string))\n"
   ]
  },
  {
   "cell_type": "code",
   "execution_count": 2,
   "id": "67cd1e3e-8527-4a8f-ba90-e700ae7b20ad",
   "metadata": {},
   "outputs": [],
   "source": [
    "os.environ[\"OPENAI_API_VERSION\"] = os.environ[\"AZURE_OPENAI_API_VERSION\"]"
   ]
  },
  {
   "cell_type": "markdown",
   "id": "56b56a94-0471-41c3-b441-3a73ff5dedfc",
   "metadata": {},
   "source": [
    "### Get the Tools - DocSearch Agent, CSV Agent, SQL Agent, Web Search Agent, ChatGPT, API Agent\n",
    "\n",
    "**Consider the following concept:** Agents, which are essentially software entities designed to perform specific tasks, can be equipped with tools. These tools themselves can be other agents, each possessing their own set of tools. This creates a layered structure where tools can range from code sequences to human actions, forming interconnected chains. Ultimately, you're constructing a network of agents and their respective tools, all collaboratively working towards solving a specific task (This is what ChatGPT is). This network operates by leveraging the unique capabilities of each agent and tool, creating a dynamic and efficient system for task resolution.\n",
    "\n",
    "In the file `common/utils.py` we created Agent Tools Classes for each of the Functionalities that we developed in prior Notebooks. "
   ]
  },
  {
   "cell_type": "code",
   "execution_count": 3,
   "id": "643d1650-6416-46fd-8b21-f5fb298ec063",
   "metadata": {},
   "outputs": [],
   "source": [
    "cb_handler = StdOutCallbackHandler()\n",
    "cb_manager = CallbackManager(handlers=[cb_handler])\n",
    "\n",
    "COMPLETION_TOKENS = 2000\n",
    "\n",
    "# We can run the everything with GPT3.5, but try also GPT4 and see the difference in the quality of responses\n",
    "# You will notice that GPT3.5 is not as reliable when using multiple sources.\n",
    "\n",
    "llm = AzureChatOpenAI(deployment_name=os.environ[\"GPT4o_DEPLOYMENT_NAME\"], \n",
    "                      temperature=0.5, max_tokens=COMPLETION_TOKENS)\n",
    "\n",
    "# Uncomment below if you want to see the answers streaming\n",
    "# llm = AzureChatOpenAI(deployment_name=os.environ[\"GPT4o_DEPLOYMENT_NAME\"], temperature=0, max_tokens=COMPLETION_TOKENS, streaming=True, callback_manager=cb_manager)\n"
   ]
  },
  {
   "cell_type": "code",
   "execution_count": null,
   "id": "a6a4cc93-2dd6-45eb-ac5b-5af2d31809dd",
   "metadata": {},
   "outputs": [],
   "source": [
    "doc_indexes = [\"srch-index-files\", \"srch-index-csv\"]\n",
    "doc_search = DocSearchAgent(llm=llm, indexes=doc_indexes,\n",
    "                           k=6, reranker_th=1,\n",
    "                           sas_token=os.environ['BLOB_SAS_TOKEN'],\n",
    "                           name=\"docsearch\",\n",
    "                           description=\"useful when the questions includes the term: docsearch\",\n",
    "                           callback_manager=cb_manager, verbose=False)"
   ]
  },
  {
   "cell_type": "code",
   "execution_count": null,
   "id": "eafd5bf5-28ee-4edd-978b-384cce057257",
   "metadata": {},
   "outputs": [],
   "source": [
    "book_indexes = [\"srch-index-books\"]\n",
    "book_search = DocSearchAgent(llm=llm, indexes=book_indexes,\n",
    "                           k=10, reranker_th=1,\n",
    "                           sas_token=os.environ['BLOB_SAS_TOKEN'],\n",
    "                           name=\"booksearch\",\n",
    "                           description=\"useful when the questions includes the term: booksearch\",\n",
    "                           callback_manager=cb_manager, verbose=False)"
   ]
  },
  {
   "cell_type": "code",
   "execution_count": null,
   "id": "0f0ae466-aff8-4cdf-80d3-ef2c61867fc7",
   "metadata": {},
   "outputs": [],
   "source": [
    "# BingSearchAgent is a langchain Tool class to use the Bing Search API (https://www.microsoft.com/en-us/bing/apis/bing-web-search-api)\n",
    "www_search = BingSearchAgent(llm=llm, k=5, callback_manager=cb_manager, \n",
    "                             name=\"bing\",\n",
    "                             description=\"useful when the questions includes the term: bing\",\n",
    "                             verbose=False)"
   ]
  },
  {
   "cell_type": "code",
   "execution_count": 4,
   "id": "78edb304-c4a2-4f10-8ded-936e9141aa02",
   "metadata": {},
   "outputs": [],
   "source": [
    "## CSVTabularAgent is a custom Tool class crated to Q&A over CSV files\n",
    "file_url = \"./data/TCK.csv\"\n",
    "csv_search_TCK = CSVTabularAgent(path=file_url, llm=llm, callback_manager=cb_manager,\n",
    "                             name=\"csv_TCK\",\n",
    "                             description=\"useful when the questions includes the term: TICKET\",\n",
    "                             verbose=False)\n",
    "\n",
    "file_url = \"./data/SF.csv\"\n",
    "csv_search_SF = CSVTabularAgent(path=file_url, llm=llm, callback_manager=cb_manager,\n",
    "                             name=\"csv_SF\",\n",
    "                             description=\"useful when the questions includes the term: csv_SF\",\n",
    "                             verbose=False)\n",
    "\n",
    "file_url = \"./data/CMDB.csv\"\n",
    "csv_search_CMDB = CSVTabularAgent(path=file_url, llm=llm, callback_manager=cb_manager,\n",
    "                             name=\"csv_CMDB\",\n",
    "                             description=\"useful when the questions includes the term: csv_CMDB\",\n",
    "                             verbose=False)"
   ]
  },
  {
   "cell_type": "code",
   "execution_count": null,
   "id": "b9d54cc5-41bc-43c3-a91d-12fc3a2446ba",
   "metadata": {},
   "outputs": [],
   "source": [
    "## SQLDbAgent is a custom Tool class created to Q&A over a MS SQL Database\n",
    "sql_search = SQLSearchAgent(llm=llm, k=30, callback_manager=cb_manager,\n",
    "                            name=\"sqlsearch\",\n",
    "                            description=\"useful when the questions includes the term: sqlsearch\",\n",
    "                            verbose=False)"
   ]
  },
  {
   "cell_type": "code",
   "execution_count": null,
   "id": "65465173-92f6-489d-9b48-58d109c5723e",
   "metadata": {},
   "outputs": [],
   "source": [
    "## ChatGPTTool is a custom Tool class created to talk to ChatGPT knowledge\n",
    "chatgpt_search = ChatGPTTool(llm=llm, callback_manager=cb_manager,\n",
    "                             name=\"chatgpt\",\n",
    "                            description=\"useful when the questions includes the term: chatgpt\",\n",
    "                            verbose=False)"
   ]
  },
  {
   "cell_type": "code",
   "execution_count": null,
   "id": "1fe2b4a7-4053-4334-867f-e4c916e360b2",
   "metadata": {},
   "outputs": [],
   "source": [
    "## APISearchAgent is a custom Tool class created to talk to any API \n",
    "\n",
    "url = \"https://datasetsgptsmartsearch.blob.core.windows.net/apispecs/openapi_kraken.json\"\n",
    "spec = requests.get(url + os.environ['BLOB_SAS_TOKEN']).json()\n",
    "\n",
    "api_search = APISearchAgent(llm=AzureChatOpenAI(deployment_name=os.environ[\"GPT4_DEPLOYMENT_NAME\"], temperature=0.5, max_tokens=1000),\n",
    "                            llm_search=AzureChatOpenAI(deployment_name=os.environ[\"GPT4_DEPLOYMENT_NAME\"], temperature=0.5, max_tokens=1000),\n",
    "                            api_spec=str(reduce_openapi_spec(spec)),\n",
    "                            callback_manager=cb_manager,\n",
    "                            name=\"apisearch\",\n",
    "                            description=\"useful when the questions includes the term: apisearch\",\n",
    "                            verbose=False)"
   ]
  },
  {
   "cell_type": "markdown",
   "id": "179fc56a-b7e4-44a1-8b7f-68b2b4d02e13",
   "metadata": {},
   "source": [
    "### Variables/knobs to use for customization"
   ]
  },
  {
   "cell_type": "markdown",
   "id": "21f11831-7578-4326-b3b3-d9b073a7149d",
   "metadata": {},
   "source": [
    "As you have seen so far, there are many knobs that you can dial up or down in order to change the behavior of your GPT Smart Search engine application, these are the variables you can tune:\n",
    "\n",
    "- <u>llm</u>:\n",
    "  - **deployment_name**: this is the deployment name of your Azure OpenAI model. This of course dictates the level of reasoning and the amount of tokens available for the conversation. For a production system you will need gpt-4-32k. This is the model that will give you enough reasoning power to work with agents, and enough tokens to work with detailed answers and conversation memory.\n",
    "  - **temperature**: How creative you want your responses to be\n",
    "  - **max_tokens**: How long you want your responses to be. It is recommended a minimum of 500\n",
    "- <u>Tools</u>: To each tool you can add the following parameters to modify the defaults (set in utils.py), these are very important since they are part of the system prompt and determines what tool to use and when.\n",
    "  - **name**: the name of the tool\n",
    "  - **description**: when the brain agent should use this tool\n",
    "- <u>DocSearchAgent</u>: \n",
    "  - **k**: The top k results per index from the text search action\n",
    "  - **similarity_k**: top k results combined from the vector search action\n",
    "  - **reranker_th**: threshold of the semantic search reranker. Picks results that are above the threshold. Max possible score=4\n",
    "- <u>BingSearchAgent</u>:\n",
    "  - **k**: The top k results from the bing search action\n",
    "- <u>SQLSearchAgent</u>:\n",
    "  - **k**: The top k results from the SQL search action. Adds TOP clause to the query\n",
    "  \n",
    "in `utils.py` you can also tune:\n",
    "- <u>model_tokens_limit</u>: In this function you can edit what is the maximum allows of tokens reserve for the content. Remember that the remaining will be for the system prompt plus the answer"
   ]
  },
  {
   "cell_type": "markdown",
   "id": "d9ee1058-debb-4f97-92a4-999e0c4e0386",
   "metadata": {},
   "source": [
    "### Test the Tools"
   ]
  },
  {
   "cell_type": "code",
   "execution_count": null,
   "id": "dc11cb35-8817-4dd0-b123-27f9eb032f43",
   "metadata": {},
   "outputs": [],
   "source": [
    "# Test the Documents Search Tool with a question we know it doesn't have the knowledge for\n",
    "printmd(doc_search.run(\"what is the weather today in Dallas?\"))"
   ]
  },
  {
   "cell_type": "code",
   "execution_count": null,
   "id": "473222f1-b423-49f3-98e7-ab70dcf47bd6",
   "metadata": {},
   "outputs": [],
   "source": [
    "# Test the Document Search Tool with a question that we know it has the answer for\n",
    "printmd(await doc_search.arun(\"How Covid affects obese people? and elderly?\"))"
   ]
  },
  {
   "cell_type": "code",
   "execution_count": null,
   "id": "46a5ed66-e7ff-43bd-829f-c028476d2593",
   "metadata": {},
   "outputs": [],
   "source": [
    "# Test the other index created manually\n",
    "printmd(await book_search.arun(\"Tell me about the kidney stolen legend?\"))"
   ]
  },
  {
   "cell_type": "code",
   "execution_count": null,
   "id": "03839591-553c-46a0-846a-1c4fb96bf851",
   "metadata": {},
   "outputs": [],
   "source": [
    "# Test the Bing Search Agent\n",
    "printmd(await www_search.arun(\"Who are the family member names of the current president of India?\"))"
   ]
  },
  {
   "cell_type": "code",
   "execution_count": null,
   "id": "bc64f3ee-96e4-4007-8a3c-2f017a615587",
   "metadata": {},
   "outputs": [],
   "source": [
    "# Test the CSV Agent\n",
    "printmd(await csv_search_CMDB.arun(\"de cuantos clientes distintos tienes información?\"))"
   ]
  },
  {
   "cell_type": "code",
   "execution_count": null,
   "id": "c809f8d7-2ed9-46d8-a73c-118da063cace",
   "metadata": {},
   "outputs": [],
   "source": [
    "# Test the SQL Search Agent\n",
    "printmd(await sql_search.arun(\"How many people in total died california in each state of the west coast in July 2020?\"))"
   ]
  },
  {
   "cell_type": "code",
   "execution_count": null,
   "id": "f70501c2-03d0-4072-b451-ddb92f4add56",
   "metadata": {},
   "outputs": [],
   "source": [
    "# Test the ChatGPTWrapper Search Tool\n",
    "printmd(await chatgpt_search.arun(\"what is the function in python that allows me to get a random number?\"))"
   ]
  },
  {
   "cell_type": "code",
   "execution_count": null,
   "id": "7e1d4740-182a-4557-856d-75a81c3098b5",
   "metadata": {},
   "outputs": [],
   "source": [
    "# Test the API Search Tool - This will be slower since it is using GPT-4\n",
    "printmd(await api_search.arun(\"what is the price now of Bitcoin? and of Ethereum?\"))"
   ]
  },
  {
   "cell_type": "markdown",
   "id": "4c0ff658-b75a-4960-8576-65472844ad05",
   "metadata": {},
   "source": [
    "### Define what tools are we going to give to our brain agent\n",
    "\n",
    "Go to `common/utils.py` to check the tools definition and the instructions on what tool to use when"
   ]
  },
  {
   "cell_type": "code",
   "execution_count": 5,
   "id": "d018c884-5c91-4a35-90e3-6a5a6e510c25",
   "metadata": {},
   "outputs": [],
   "source": [
    "#tools = [www_search, sql_search, doc_search, book_search, chatgpt_search, csv_search]\n",
    "tools = [csv_search_TCK, csv_search_SF, csv_search_CMDB]"
   ]
  },
  {
   "cell_type": "markdown",
   "id": "06f91421-079d-4bdd-9c45-96a0977c6558",
   "metadata": {},
   "source": [
    "**Note**: Notice that since both the CSV file and the SQL Database have the same exact data, we are only going to use the SQLDBTool since it is faster and more reliable"
   ]
  },
  {
   "cell_type": "markdown",
   "id": "27699991-00d8-4f0a-8511-e03e530910c3",
   "metadata": {},
   "source": [
    "# Option 1: Using OpenAI functions as router"
   ]
  },
  {
   "cell_type": "markdown",
   "id": "66aed5eb-846d-44d1-acf1-04b8ff931d30",
   "metadata": {},
   "source": [
    "We need a method to route the question to the right tool, one simple way to do this is to use OpenAI models functions via the Tools API (models 1106 and newer). To do this, we need to bind these tools/functions to the model and let the model respond with the right tool to use.\n",
    "\n",
    "The advantage of this option is that there is no another agent in the middle between the experts (agent tools) and the user. Each agent tool responds directly. Also, another advantage is that multiple tools can be called in parallel.\n",
    "\n",
    "**Note**: on this method it is important that each agent tool has the same system profile prompt so they adhere to the same reponse guidelines."
   ]
  },
  {
   "cell_type": "code",
   "execution_count": 6,
   "id": "218163af-2279-4891-8699-7f9f291c49f6",
   "metadata": {},
   "outputs": [],
   "source": [
    "llm_with_tools = llm.bind_tools(tools)\n",
    "tool_map = {tool.name: tool for tool in tools}"
   ]
  },
  {
   "cell_type": "code",
   "execution_count": null,
   "id": "2c5e8efd-b907-4157-99f8-15a44a63f17d",
   "metadata": {},
   "outputs": [],
   "source": [
    "def call_tool(tool_invocation: dict) -> Union[str, Runnable]:\n",
    "    \"\"\"Function for dynamically constructing the end of the chain based on the model-selected tool.\"\"\"\n",
    "    tool = tool_map[tool_invocation[\"type\"]]\n",
    "    return RunnablePassthrough.assign(output=itemgetter(\"args\") | tool)\n",
    "\n",
    "def print_response(result: List):\n",
    "    for answer in result:\n",
    "        printmd(\"**\"+answer[\"type\"] + \"**\" + \": \" + answer[\"output\"])\n",
    "        printmd(\"----\")\n",
    "    \n",
    "# .map() allows us to apply a function to a list of inputs.\n",
    "call_tool_list = RunnableLambda(call_tool).map()\n",
    "agent = llm_with_tools | JsonOutputToolsParser() | call_tool_list"
   ]
  },
  {
   "cell_type": "code",
   "execution_count": null,
   "id": "63682613-daa3-49fa-9fe0-6e5af8ff05ee",
   "metadata": {},
   "outputs": [],
   "source": [
    "result = agent.invoke(\"Who is the current president of France?\")\n",
    "print_response(result)"
   ]
  },
  {
   "cell_type": "code",
   "execution_count": null,
   "id": "5f58b57b-51cb-433c-b6a8-376e6aa06e12",
   "metadata": {},
   "outputs": [],
   "source": [
    "result = agent.invoke(\"csvfile, cuantas filas tienes?\")\n",
    "print_response(result)"
   ]
  },
  {
   "cell_type": "markdown",
   "id": "eb036da4-825f-45a4-a08f-c5a272c8f895",
   "metadata": {},
   "source": [
    "# Option 2: Using a user facing agent that calls the agent tools experts\n",
    "\n",
    "With this method, we create a user facing agent that talks to the user and also talks to the experts (agent tools)"
   ]
  },
  {
   "cell_type": "markdown",
   "id": "0cc02389-cf52-4a5f-b4a1-2820ee5d8116",
   "metadata": {
    "tags": []
   },
   "source": [
    "### Initialize the brain agent"
   ]
  },
  {
   "cell_type": "code",
   "execution_count": 7,
   "id": "ea67e969-26b3-4e6f-a6c0-16780ed418e3",
   "metadata": {},
   "outputs": [],
   "source": [
    "agent = create_openai_tools_agent(llm, tools, CUSTOM_CHATBOT_PROMPT)"
   ]
  },
  {
   "cell_type": "code",
   "execution_count": 8,
   "id": "d9d2d5b4-0145-402e-a620-0fe3f3548acf",
   "metadata": {},
   "outputs": [],
   "source": [
    "agent_executor = AgentExecutor(agent=agent, tools=tools, verbose=False)"
   ]
  },
  {
   "cell_type": "code",
   "execution_count": 9,
   "id": "e3ffef69-5dcd-423a-802d-7a0c419c7e46",
   "metadata": {},
   "outputs": [],
   "source": [
    "def get_session_history(session_id: str, user_id: str) -> CosmosDBChatMessageHistory:\n",
    "    cosmos = CosmosDBChatMessageHistory(\n",
    "        cosmos_endpoint=os.environ['AZURE_COSMOSDB_ENDPOINT'],\n",
    "        cosmos_database=os.environ['AZURE_COSMOSDB_NAME'],\n",
    "        cosmos_container=os.environ['AZURE_COSMOSDB_CONTAINER_NAME'],\n",
    "        connection_string=os.environ['AZURE_COMOSDB_CONNECTION_STRING'],\n",
    "        session_id=session_id,\n",
    "        user_id=user_id\n",
    "        )\n",
    "\n",
    "    # prepare the cosmosdb instance\n",
    "    cosmos.prepare_cosmos()\n",
    "    return cosmos\n"
   ]
  },
  {
   "cell_type": "code",
   "execution_count": 10,
   "id": "73e389f9-17cc-4c12-80e0-ab671b46bf37",
   "metadata": {},
   "outputs": [],
   "source": [
    "brain_agent_executor = RunnableWithMessageHistory(\n",
    "    agent_executor,\n",
    "    get_session_history,\n",
    "    input_messages_key=\"question\",\n",
    "    history_messages_key=\"history\",\n",
    "    history_factory_config=[\n",
    "        ConfigurableFieldSpec(\n",
    "            id=\"user_id\",\n",
    "            annotation=str,\n",
    "            name=\"User ID\",\n",
    "            description=\"Unique identifier for the user.\",\n",
    "            default=\"\",\n",
    "            is_shared=True,\n",
    "        ),\n",
    "        ConfigurableFieldSpec(\n",
    "            id=\"session_id\",\n",
    "            annotation=str,\n",
    "            name=\"Session ID\",\n",
    "            description=\"Unique identifier for the conversation.\",\n",
    "            default=\"\",\n",
    "            is_shared=True,\n",
    "        ),\n",
    "    ],\n",
    ")"
   ]
  },
  {
   "cell_type": "code",
   "execution_count": 17,
   "id": "601fce84-4a02-41a6-8ae2-f692174d4cc8",
   "metadata": {},
   "outputs": [
    {
     "name": "stdout",
     "output_type": "stream",
     "text": [
      "session237 user957\n"
     ]
    }
   ],
   "source": [
    "# This is where we configure the session id and user id\n",
    "random_session_id = \"session\"+ str(random.randint(1, 1000))\n",
    "ramdom_user_id = \"user\"+ str(random.randint(1, 1000))\n",
    "\n",
    "config={\"configurable\": {\"session_id\": random_session_id, \"user_id\": ramdom_user_id}}\n",
    "print(random_session_id, ramdom_user_id)"
   ]
  },
  {
   "cell_type": "markdown",
   "id": "4904a07d-b857-45d7-86ac-c7cade3e9080",
   "metadata": {},
   "source": [
    "### Let's talk to our GPT Smart Search Engine chat bot now"
   ]
  },
  {
   "cell_type": "code",
   "execution_count": null,
   "id": "4b37988b-9fb4-4958-bc17-d58d8dac8bb7",
   "metadata": {},
   "outputs": [],
   "source": [
    "# This question should not use any tool, the brain agent should answer it without the use of any tool\n",
    "printmd(brain_agent_executor.invoke({\"question\": \"Hi, I'm Pablo Marin, how are you doing today?\"}, config=config)[\"output\"])"
   ]
  },
  {
   "cell_type": "code",
   "execution_count": null,
   "id": "a070c558-3963-40ef-b94e-365324ee3d20",
   "metadata": {},
   "outputs": [],
   "source": [
    "printmd(brain_agent_executor.invoke({\"question\": \"what is your name and what do you do?\"}, config=config)[\"output\"])"
   ]
  },
  {
   "cell_type": "code",
   "execution_count": 18,
   "id": "ebdc3ad9-ad59-4135-87f6-e86728a11b71",
   "metadata": {},
   "outputs": [
    {
     "name": "stderr",
     "output_type": "stream",
     "text": [
      "Parent run a989fce7-2d3c-4811-97a5-d12ebf9accb5 not found for run 3b622074-f23e-4930-b38e-bc5e07d81157. Treating as a root run.\n"
     ]
    },
    {
     "name": "stdout",
     "output_type": "stream",
     "text": [
      "Tool: csv_SF\n",
      "Agent Action: \n",
      "Invoking: `python_repl_ast` with `{'query': \"import pandas as pd\\npd.set_option('display.max_columns', None)\\ndf.head()\"}`\n",
      "\n",
      "\n",
      "\n",
      "Agent Action: \n",
      "Invoking: `python_repl_ast` with `{'query': 'df.columns'}`\n",
      "\n",
      "\n",
      "\n",
      "Agent Action: \n",
      "Invoking: `python_repl_ast` with `{'query': \"# Remove extra spaces from column names\\ndf.columns = df.columns.str.strip()\\n# Filter rows where 'cliente' is 'Toka'\\ntoka_df = df[df['cliente'] == 'Toka']\\n# Convert 'TCV' to numeric after removing '$' and commas\\ntoka_df['TCV'] = toka_df['TCV'].replace({'[$,]': ''}, regex=True).astype(float)\\n# Sum the 'TCV' values\\ntoka_tcv_total = toka_df['TCV'].sum()\\ntoka_tcv_total\"}`\n",
      "\n",
      "\n",
      "\n",
      "Agent Action: \n",
      "Invoking: `python_repl_ast` with `{'query': \"# Check unique values in the 'cliente' column to ensure correct filtering\\nunique_clients = df['cliente'].unique()\\nunique_clients\"}`\n",
      "\n",
      "\n",
      "\n"
     ]
    },
    {
     "data": {
      "text/markdown": [
       "### TCV Total del Cliente Toka\n",
       "\n",
       "Después de revisar los datos proporcionados, he verificado que no hay registros asociados con el cliente \"Toka\". Los clientes presentes en los datos son \"Abilia\" y \"Bulkmatic\".\n",
       "\n",
       "#### Explicación:\n",
       "1. **Extracción de Columnas**: Primero, obtuve los nombres de las columnas y eliminé los espacios adicionales.\n",
       "2. **Filtrado de Datos**: Filtré las filas donde el cliente es \"Toka\".\n",
       "3. **Conversión de Valores**: Convertí los valores de la columna `TCV` a tipo numérico después de eliminar los caracteres `$` y `,`.\n",
       "4. **Suma de TCV**: Sumé los valores de `TCV` para obtener el total.\n",
       "\n",
       "Sin embargo, al revisar los valores únicos en la columna `cliente`, no se encontró ningún registro para \"Toka\".\n",
       "\n",
       "Por lo tanto, el total de TCV para el cliente \"Toka\" es **0**.\n",
       "\n",
       "```plaintext\n",
       "No se encontraron registros para el cliente \"Toka\".\n",
       "```\n",
       "\n",
       "### Clientes Presentes en los Datos:\n",
       "- Abilia\n",
       "- Bulkmatic"
      ],
      "text/plain": [
       "<IPython.core.display.Markdown object>"
      ]
     },
     "metadata": {},
     "output_type": "display_data"
    }
   ],
   "source": [
    "printmd(brain_agent_executor.invoke({\"question\": \"csv_SF, cual es el TCV total del cliente Toka?\"}, \n",
    "                                    config=config)[\"output\"])"
   ]
  },
  {
   "cell_type": "code",
   "execution_count": null,
   "id": "6e47566b-15a4-40c3-87b6-a66071e4c1ff",
   "metadata": {},
   "outputs": [],
   "source": [
    "printmd(brain_agent_executor.invoke({\"question\": \"de esta información dame el TCV total de solo aquellas que su Fecha de vigencia sea posterior a hoy?\"}, config=config)[\"output\"])"
   ]
  },
  {
   "cell_type": "code",
   "execution_count": null,
   "id": "7d0b33f9-75fa-4a3e-b9d8-8fd30dbfd3fc",
   "metadata": {},
   "outputs": [],
   "source": [
    "printmd(brain_agent_executor.invoke({\"question\": \"cuantas filas tienes?\"}, config=config)[\"output\"])"
   ]
  },
  {
   "cell_type": "code",
   "execution_count": 12,
   "id": "94f354eb-884d-4fd3-842e-a8adc3b09a70",
   "metadata": {},
   "outputs": [
    {
     "name": "stderr",
     "output_type": "stream",
     "text": [
      "Parent run 2e673aae-4bc9-435a-b09a-81b26f7adac9 not found for run 275684ae-90f5-4adb-a810-5ee7b7b559fe. Treating as a root run.\n"
     ]
    },
    {
     "name": "stdout",
     "output_type": "stream",
     "text": [
      "Tool: csv_SF\n",
      "Agent Action: \n",
      "Invoking: `python_repl_ast` with `{'query': \"import pandas as pd\\nfrom io import StringIO\\n\\ndata = '''cliente   | Etapa      | Tipo de Negocio   | Fecha de cierre   | Fecha Fin Contrato   | TCV            | Propietario de oportunidad: Nombre completo   | Quote Number   |   Tiempo de contrato | QuoteLine   | Nombre del producto                                                                     | DescripciÃ³n                                                                                                                                 | Tipo Cargo (Venta)   | MRC         | Fabrica                 | Sector                     | No. de proyecto   \\nAbilia    | Closed won | Up Selling        | 13-abr-2020       | 13-abr-2022          | $ 32,834.10    | Berenice Altamirano CalderÃ³n (BAJA)          | Q-19698        |                   24 | QL-0316923  | Licencia Trend Micro EndPoint Security                                                  | Licencia Trend Micro End Point Security                                                                                                      | MRC                  | $ 1,368.09  | APPLICATIONS MANAGEMENT | Admon. PÃºblica (Gobierno) | P-012660          \\nBulkmatic | Closed won | Up Selling        | 25-sep-2020       | 25-sep-2025          | $ 1,246,615.17 | Miguel Angel Mariel Tanus                     | Q-29502        |                   60 | QL-1134185  | ProtecciÃ³n Perimetral - TecnologÃ\\xada                                                     | FortiGate-601E Hardware plus 3 Year 24x7 FortiCare and FortiGuard Unified (UTM) Protection                                                   | MRC                  | $ 20,776.92 | KIO CYBERSECURITY       | 0                          | P-014515          \\nBulkmatic | Closed won | Up Selling        | 25-sep-2020       | 25-sep-2025          | $ 1,106,820.00 | Miguel Angel Mariel Tanus                     | Q-29502        |                   60 | QL-1134194  | Add-on (paquete) - Network Security - onPremise FW - SOC - Managed Services (5 tickets) | Servicio administrado de protecciÃ³n perimetral 3 equipos FW 5 tickets mensuales                                                             | MRC                  | $ 18,447.00 | KIO CYBERSECURITY       | 0                          | P-014515          \\nBulkmatic | Closed won | Up Selling        | 25-sep-2020       | 25-sep-2025          | $ 402,480.00   | Miguel Angel Mariel Tanus                     | Q-29502        |                   60 | QL-1134195  | Add-on (paquete) - Network Security - onPremise FW - SOC - Managed Services (5 tickets) | Servicio administrado de protecciÃ³n perimetral Forty Analyzer 5 tickets mensuales                                                           | MRC                  | $ 6,708.00  | KIO CYBERSECURITY       | 0                          | P-014515          \\nBulkmatic | Closed won | Up Selling        | 25-sep-2020       | 25-sep-2025          | $ 393,773.25   | Miguel Angel Mariel Tanus                     | Q-29502        |                   60 | QL-1134198  | ProtecciÃ³n Perimetral - TecnologÃ\\xada                                                     | FortiGate-101F 1 Year Unified Threat Protection (UTP) (24x7 FortiCare plus Application Control, IPS, AMP, Web Filtering and Antispam Service | MRC                  | $ 6,562.89  | KIO CYBERSECURITY       | 0                          | P-014515          \\n'''\\n\\ndf = pd.read_csv(StringIO(data), sep='|')\\npd.set_option('display.max_columns', None)\\ndf.columns\"}`\n",
      "\n",
      "\n",
      "\n",
      "Agent Action: \n",
      "Invoking: `python_repl_ast` with `{'query': \"df_filtered = df[df['cliente   '].str.strip() == 'Abilia']\\ndf_filtered\"}`\n",
      "\n",
      "\n",
      "\n",
      "Agent Action: \n",
      "Invoking: `python_repl_ast` with `{'query': \"df_filtered[['cliente   ', ' Etapa      ', ' Tipo de Negocio   ', ' Fecha de cierre   ', ' Fecha Fin Contrato   ', ' TCV            ', ' Propietario de oportunidad: Nombre completo   ', ' Quote Number   ', '   Tiempo de contrato ', ' QuoteLine   ', ' Nombre del producto                                                                     ', ' DescripciÃ³n                                                                                                                                 ', ' Tipo Cargo (Venta)   ', ' MRC         ', ' Fabrica                 ', ' Sector                     ', ' No. de proyecto   ']].head()\"}`\n",
      "\n",
      "\n",
      "\n",
      "Tool: csv_CMDB\n",
      "Agent Action: \n",
      "Invoking: `python_repl_ast` with `{'query': \"import pandas as pd\\npd.set_option('display.max_columns', None)\\ndf.head()\"}`\n",
      "\n",
      "\n",
      "\n",
      "Agent Action: \n",
      "Invoking: `python_repl_ast` with `{'query': 'df.columns'}`\n",
      "\n",
      "\n",
      "\n",
      "Agent Action: \n",
      "Invoking: `python_repl_ast` with `{'query': \"df[df['cliente'] == 'Abilia']\"}`\n",
      "\n",
      "\n",
      "\n",
      "Tool: csv_TCK\n",
      "Agent Action: \n",
      "Invoking: `python_repl_ast` with `{'query': \"import pandas as pd\\npd.set_option('display.max_columns', None)\\ndf.columns.tolist()\"}`\n",
      "\n",
      "\n",
      "\n",
      "Agent Action: \n",
      "Invoking: `python_repl_ast` with `{'query': \"df[df['Cuenta'] == 'Abilia']\"}`\n",
      "\n",
      "\n",
      "\n"
     ]
    },
    {
     "data": {
      "text/markdown": [
       "### Información del Cliente \"Abilia\"\n",
       "\n",
       "#### Total Contract Value (TCV)\n",
       "El **TCV total** para el cliente Abilia es de **$32,834.10**.\n",
       "\n",
       "- **Fecha de cierre**: 13-abr-2020\n",
       "- **Fecha Fin Contrato**: 13-abr-2022\n",
       "- **Propietario de oportunidad**: Berenice Altamirano Calderón\n",
       "- **Número de proyecto**: P-012660\n",
       "\n",
       "#### Tickets\n",
       "El cliente Abilia tiene **5 tickets** registrados. A continuación se detallan algunos de ellos:\n",
       "\n",
       "1. **ID de la solicitud**: 27208\n",
       "   - **Asunto**: Notificación de FW_ABILIA_Bosque6060 en Estado...\n",
       "   - **Técnico**: Nestor Severiano Perales\n",
       "   - **Hora de creación**: 18/02/2023 16:26\n",
       "   - **Hora de finalización**: 26/02/2023 19:31\n",
       "   - **Estado de solicitud**: Cerrado\n",
       "\n",
       "2. **ID de la solicitud**: 32935\n",
       "   - **Asunto**: (ABILIA) Validación de conexión\n",
       "   - **Técnico**: Uriel Lopez Martinez\n",
       "   - **Hora de creación**: 21/02/2023 11:13\n",
       "   - **Hora de finalización**: 24/02/2023 10:41\n",
       "   - **Estado de solicitud**: Cerrado\n",
       "\n",
       "3. **ID de la solicitud**: 35191\n",
       "   - **Asunto**: (ABILIA) Validación de conexión\n",
       "   - **Técnico**: Hugo Alvarez Fuentes\n",
       "   - **Hora de creación**: 22/02/2023 09:42\n",
       "   - **Hora de finalización**: 24/02/2023 10:42\n",
       "   - **Estado de solicitud**: Cerrado\n",
       "\n",
       "4. **ID de la solicitud**: 50010\n",
       "   - **Asunto**: Validación de automatización de respaldo hacia...\n",
       "   - **Técnico**: Hugo Alvarez Fuentes\n",
       "   - **Hora de creación**: 28/02/2023 18:08\n",
       "   - **Hora de finalización**: 03/03/2023 20:15\n",
       "   - **Estado de solicitud**: Cerrado\n",
       "\n",
       "5. **ID de la solicitud**: 60824\n",
       "   - **Asunto**: Reporte mensual Febrero /// ABILIA\n",
       "   - **Técnico**: Daniela Yuritzi Torres Alarcon\n",
       "   - **Hora de creación**: 05/03/2023 04:01\n",
       "   - **Hora de finalización**: 08/03/2023 04:51\n",
       "   - **Estado de solicitud**: Cerrado\n",
       "\n",
       "#### Tecnologías Administradas\n",
       "El cliente Abilia administra **2 tecnologías** principales:\n",
       "\n",
       "1. **FIREWALL**\n",
       "   - **Marca**: FORTINET\n",
       "   - **Modelo**: FortiGate 300D\n",
       "   - **Sistema Operativo**: v7.2.5 build1517\n",
       "   - **Número de serie**: FG100FTK20017803\n",
       "\n",
       "2. **IPS**\n",
       "   - **Marca**: FORTINET\n",
       "   - **Modelo**: FortiWiFi 60D\n",
       "   - **Sistema Operativo**: v5.4.4, build1117 (GA)\n",
       "   - **Número de serie**: FWF60D4Q16013527\n",
       "\n",
       "### Referencias:\n",
       "1. **Datos de TCV y contratos**:\n",
       "   - Fuente: [Datos SF](#)\n",
       "2. **Datos de tickets**:\n",
       "   - Fuente: [Datos TCK](#)\n",
       "3. **Datos de tecnologías**:\n",
       "   - Fuente: [Datos CMDB](#)"
      ],
      "text/plain": [
       "<IPython.core.display.Markdown object>"
      ]
     },
     "metadata": {},
     "output_type": "display_data"
    }
   ],
   "source": [
    "printmd(brain_agent_executor.invoke({\"question\": \"csv_SF, csv_CMDB, csv_TCK, Del cliente Abilia dime cual es su TCV total, cuantos tickets tiene, y cuantas tecnologias se administran?\"}, config=config)[\"output\"])"
   ]
  },
  {
   "cell_type": "code",
   "execution_count": null,
   "id": "2fd67aed-ecd7-4096-9266-22de30c64e71",
   "metadata": {},
   "outputs": [],
   "source": [
    "printmd(brain_agent_executor.invoke({\"question\": \"can you tell an example?\"}, config=config)[\"output\"])"
   ]
  },
  {
   "cell_type": "code",
   "execution_count": null,
   "id": "badebc1b-dbfe-4a92-93bd-9ff214c34e75",
   "metadata": {},
   "outputs": [],
   "source": [
    "printmd(brain_agent_executor.invoke({\"question\": \"sqlsearch, How many people died of covid in Texas in 2020?\"}, config=config)[\"output\"])"
   ]
  },
  {
   "cell_type": "code",
   "execution_count": null,
   "id": "aa62a502-fb14-4e39-a0d5-054f4d804b77",
   "metadata": {},
   "outputs": [],
   "source": [
    "printmd(brain_agent_executor.invoke({\"question\": \"that result doesn't seem correct, can you use the deathIncrease column instead?\"}, config=config)[\"output\"])"
   ]
  },
  {
   "cell_type": "code",
   "execution_count": null,
   "id": "410d398b-d589-4352-8c42-2df5be173498",
   "metadata": {},
   "outputs": [],
   "source": [
    "printmd(brain_agent_executor.invoke({\"question\": \"booksearch, I don't know how to say No to my kids, help me! What kind of boundaries should I set?\"}, config=config)[\"output\"])"
   ]
  },
  {
   "cell_type": "code",
   "execution_count": null,
   "id": "1fcd6749-b36d-4b5c-be9c-e2f02f34d230",
   "metadata": {},
   "outputs": [],
   "source": [
    "# This question although does not contain instructions for a tool, the brain agent decides what tool to use\n",
    "printmd(brain_agent_executor.invoke({\"question\": \"What's a good place to dine today in downtown Seoul?\"}, config=config)[\"output\"])"
   ]
  },
  {
   "cell_type": "code",
   "execution_count": null,
   "id": "080cc28e-2130-4c79-ba7d-0ed702f0ea7a",
   "metadata": {},
   "outputs": [],
   "source": [
    "printmd(brain_agent_executor.invoke({\"question\": \"chatgpt, can you give me a javascript example of how to trim the spaces of a sentence?\"}, config=config)[\"output\"])"
   ]
  },
  {
   "cell_type": "code",
   "execution_count": null,
   "id": "a5ded8d9-0bfe-4e16-be3f-382271c120a9",
   "metadata": {},
   "outputs": [],
   "source": [
    "printmd(brain_agent_executor.invoke({\"question\": \"Thank you Jarvis!\"}, config=config)[\"output\"])"
   ]
  },
  {
   "cell_type": "markdown",
   "id": "5c289a29-55c4-46df-b8a0-68d5674c1286",
   "metadata": {},
   "source": [
    "# Option 3: Using LangGraph\n",
    "See Notebook 11.5"
   ]
  },
  {
   "cell_type": "markdown",
   "id": "96a54fc7-ec9b-4ced-9e17-c65d00aa97f6",
   "metadata": {},
   "source": [
    "# Summary"
   ]
  },
  {
   "cell_type": "markdown",
   "id": "9c48d899-bd7b-4081-a656-e8d9e597220d",
   "metadata": {},
   "source": [
    "Great!, We just built the GPT Smart Search Engine!\n",
    "In this Notebook we created the brain, the decision making Agent that decides what Tool to use to answer the question from the user. This is what was necessary in order to have an smart chat bot.\n",
    "\n",
    "We can have many tools to accomplish different tasks, including connecting to APIs, dealing with File Systems, and even using Humans as Tools. For more reference see [HERE](https://python.langchain.com/docs/integrations/tools/)"
   ]
  },
  {
   "cell_type": "markdown",
   "id": "9969ed7e-3680-4853-b750-675a42d3b9ea",
   "metadata": {},
   "source": [
    "# NEXT\n",
    "It is time now to use all the functions and prompts build so far and build a Web application.\n",
    "The Next notebook will guide you on how to build:\n",
    "\n",
    "1) A Bot API Backend\n",
    "2) A Frontend UI with a Search and Webchat interfaces"
   ]
  },
  {
   "cell_type": "code",
   "execution_count": null,
   "id": "64e99872-b01b-4e1a-9d41-04f70e22bbf4",
   "metadata": {},
   "outputs": [],
   "source": []
  }
 ],
 "metadata": {
  "kernelspec": {
   "display_name": "Python 3",
   "language": "python",
   "name": "python3"
  },
  "language_info": {
   "codemirror_mode": {
    "name": "ipython",
    "version": 3
   },
   "file_extension": ".py",
   "mimetype": "text/x-python",
   "name": "python",
   "nbconvert_exporter": "python",
   "pygments_lexer": "ipython3",
   "version": "3.10.4"
  }
 },
 "nbformat": 4,
 "nbformat_minor": 5
}
